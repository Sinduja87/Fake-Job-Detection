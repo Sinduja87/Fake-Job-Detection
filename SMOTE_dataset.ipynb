{
 "cells": [
  {
   "cell_type": "code",
   "execution_count": 4,
   "metadata": {},
   "outputs": [],
   "source": [
    "import pandas as pd\n",
    "import numpy as np\n",
    "\n",
    "#Data Visualization\n",
    "import matplotlib.pyplot as plt\n",
    "import matplotlib\n",
    "import seaborn as sns\n",
    "\n",
    "#Spiltting the data\n",
    "from sklearn.model_selection import train_test_split\n",
    "\n",
    "#token Vectoriser and encoding categorical variable\n",
    "import nltk\n",
    "import string\n",
    "import sklearn\n",
    "from sklearn.feature_extraction.text import TfidfVectorizer\n",
    "from sklearn.feature_extraction.text import CountVectorizer\n",
    "from sklearn.preprocessing import OneHotEncoder\n",
    "\n",
    "#Sampling Technique\n",
    "from imblearn.over_sampling import SMOTE\n",
    "\n",
    "#pipeline\n",
    "from imblearn.pipeline import Pipeline\n",
    "from sklearn.model_selection import GridSearchCV\n",
    "from sklearn.compose import ColumnTransformer\n",
    "\n",
    "#modelling\n",
    "from sklearn.linear_model import LogisticRegression\n",
    "from sklearn.ensemble import RandomForestClassifier\n",
    "from xgboost import XGBClassifier\n",
    "\n",
    "#reports\n",
    "from sklearn.metrics import classification_report\n",
    "from sklearn.metrics import confusion_matrix"
   ]
  },
  {
   "cell_type": "markdown",
   "metadata": {},
   "source": [
    "Now that I have evaluated the Logistic regression, Random forest and XG boost models for imbalanced dataset, I will over sample the dataset using SMOTE technique and will rerun the above mentioned models with the over sampled dataset to evaluate the model performance against the base model.\n",
    "\n",
    "Let us load the cleaned dataset from the `EDA` python script file."
   ]
  },
  {
   "cell_type": "code",
   "execution_count": 96,
   "metadata": {},
   "outputs": [
    {
     "data": {
      "text/html": [
       "<div>\n",
       "<style scoped>\n",
       "    .dataframe tbody tr th:only-of-type {\n",
       "        vertical-align: middle;\n",
       "    }\n",
       "\n",
       "    .dataframe tbody tr th {\n",
       "        vertical-align: top;\n",
       "    }\n",
       "\n",
       "    .dataframe thead th {\n",
       "        text-align: right;\n",
       "    }\n",
       "</style>\n",
       "<table border=\"1\" class=\"dataframe\">\n",
       "  <thead>\n",
       "    <tr style=\"text-align: right;\">\n",
       "      <th></th>\n",
       "      <th>Unnamed: 0</th>\n",
       "      <th>country</th>\n",
       "      <th>has_company_logo</th>\n",
       "      <th>employment_type</th>\n",
       "      <th>required_experience</th>\n",
       "      <th>required_education</th>\n",
       "      <th>function</th>\n",
       "      <th>fraudulent</th>\n",
       "      <th>text</th>\n",
       "    </tr>\n",
       "  </thead>\n",
       "  <tbody>\n",
       "    <tr>\n",
       "      <th>0</th>\n",
       "      <td>0</td>\n",
       "      <td>US</td>\n",
       "      <td>1</td>\n",
       "      <td>Other</td>\n",
       "      <td>Internship</td>\n",
       "      <td>Unspecified</td>\n",
       "      <td>Marketing</td>\n",
       "      <td>0</td>\n",
       "      <td>Marketing Intern We're Food52, and we've creat...</td>\n",
       "    </tr>\n",
       "    <tr>\n",
       "      <th>1</th>\n",
       "      <td>1</td>\n",
       "      <td>NZ</td>\n",
       "      <td>1</td>\n",
       "      <td>Full-time</td>\n",
       "      <td>Not Applicable</td>\n",
       "      <td>Unspecified</td>\n",
       "      <td>Customer Service</td>\n",
       "      <td>0</td>\n",
       "      <td>Customer Service - Cloud Video Production 90 S...</td>\n",
       "    </tr>\n",
       "    <tr>\n",
       "      <th>2</th>\n",
       "      <td>2</td>\n",
       "      <td>US</td>\n",
       "      <td>1</td>\n",
       "      <td>Other</td>\n",
       "      <td>Not Applicable</td>\n",
       "      <td>Unspecified</td>\n",
       "      <td>Other</td>\n",
       "      <td>0</td>\n",
       "      <td>Commissioning Machinery Assistant (CMA) Valor ...</td>\n",
       "    </tr>\n",
       "    <tr>\n",
       "      <th>3</th>\n",
       "      <td>3</td>\n",
       "      <td>US</td>\n",
       "      <td>1</td>\n",
       "      <td>Full-time</td>\n",
       "      <td>Mid-Senior level</td>\n",
       "      <td>Bachelor's Degree</td>\n",
       "      <td>Sales</td>\n",
       "      <td>0</td>\n",
       "      <td>Account Executive - Washington DC Our passion ...</td>\n",
       "    </tr>\n",
       "    <tr>\n",
       "      <th>4</th>\n",
       "      <td>4</td>\n",
       "      <td>US</td>\n",
       "      <td>1</td>\n",
       "      <td>Full-time</td>\n",
       "      <td>Mid-Senior level</td>\n",
       "      <td>Bachelor's Degree</td>\n",
       "      <td>Health Care Provider</td>\n",
       "      <td>0</td>\n",
       "      <td>Bill Review Manager SpotSource Solutions LLC i...</td>\n",
       "    </tr>\n",
       "  </tbody>\n",
       "</table>\n",
       "</div>"
      ],
      "text/plain": [
       "   Unnamed: 0 country  has_company_logo employment_type required_experience  \\\n",
       "0           0      US                 1           Other          Internship   \n",
       "1           1      NZ                 1       Full-time      Not Applicable   \n",
       "2           2      US                 1           Other      Not Applicable   \n",
       "3           3      US                 1       Full-time    Mid-Senior level   \n",
       "4           4      US                 1       Full-time    Mid-Senior level   \n",
       "\n",
       "  required_education              function  fraudulent  \\\n",
       "0        Unspecified             Marketing           0   \n",
       "1        Unspecified      Customer Service           0   \n",
       "2        Unspecified                 Other           0   \n",
       "3  Bachelor's Degree                 Sales           0   \n",
       "4  Bachelor's Degree  Health Care Provider           0   \n",
       "\n",
       "                                                text  \n",
       "0  Marketing Intern We're Food52, and we've creat...  \n",
       "1  Customer Service - Cloud Video Production 90 S...  \n",
       "2  Commissioning Machinery Assistant (CMA) Valor ...  \n",
       "3  Account Executive - Washington DC Our passion ...  \n",
       "4  Bill Review Manager SpotSource Solutions LLC i...  "
      ]
     },
     "execution_count": 96,
     "metadata": {},
     "output_type": "execute_result"
    }
   ],
   "source": [
    "#Loading the data\n",
    "df = pd.read_csv('Data/fake_job_posting_clean.csv')\n",
    "df.head()"
   ]
  },
  {
   "cell_type": "markdown",
   "metadata": {},
   "source": [
    "We can see that the index column is duplicated in the new data file.\\\n",
    "Let us drop the 'Unnamed: 0' column from our dataset. "
   ]
  },
  {
   "cell_type": "code",
   "execution_count": 97,
   "metadata": {},
   "outputs": [],
   "source": [
    "##Removing the index column\n",
    "df.drop('Unnamed: 0', axis=1, inplace = True)"
   ]
  },
  {
   "cell_type": "code",
   "execution_count": 98,
   "metadata": {},
   "outputs": [
    {
     "data": {
      "text/html": [
       "<div>\n",
       "<style scoped>\n",
       "    .dataframe tbody tr th:only-of-type {\n",
       "        vertical-align: middle;\n",
       "    }\n",
       "\n",
       "    .dataframe tbody tr th {\n",
       "        vertical-align: top;\n",
       "    }\n",
       "\n",
       "    .dataframe thead th {\n",
       "        text-align: right;\n",
       "    }\n",
       "</style>\n",
       "<table border=\"1\" class=\"dataframe\">\n",
       "  <thead>\n",
       "    <tr style=\"text-align: right;\">\n",
       "      <th></th>\n",
       "      <th>country</th>\n",
       "      <th>has_company_logo</th>\n",
       "      <th>employment_type</th>\n",
       "      <th>required_experience</th>\n",
       "      <th>required_education</th>\n",
       "      <th>function</th>\n",
       "      <th>fraudulent</th>\n",
       "      <th>text</th>\n",
       "    </tr>\n",
       "  </thead>\n",
       "  <tbody>\n",
       "    <tr>\n",
       "      <th>0</th>\n",
       "      <td>US</td>\n",
       "      <td>1</td>\n",
       "      <td>Other</td>\n",
       "      <td>Internship</td>\n",
       "      <td>Unspecified</td>\n",
       "      <td>Marketing</td>\n",
       "      <td>0</td>\n",
       "      <td>Marketing Intern We're Food52, and we've creat...</td>\n",
       "    </tr>\n",
       "    <tr>\n",
       "      <th>1</th>\n",
       "      <td>NZ</td>\n",
       "      <td>1</td>\n",
       "      <td>Full-time</td>\n",
       "      <td>Not Applicable</td>\n",
       "      <td>Unspecified</td>\n",
       "      <td>Customer Service</td>\n",
       "      <td>0</td>\n",
       "      <td>Customer Service - Cloud Video Production 90 S...</td>\n",
       "    </tr>\n",
       "    <tr>\n",
       "      <th>2</th>\n",
       "      <td>US</td>\n",
       "      <td>1</td>\n",
       "      <td>Other</td>\n",
       "      <td>Not Applicable</td>\n",
       "      <td>Unspecified</td>\n",
       "      <td>Other</td>\n",
       "      <td>0</td>\n",
       "      <td>Commissioning Machinery Assistant (CMA) Valor ...</td>\n",
       "    </tr>\n",
       "    <tr>\n",
       "      <th>3</th>\n",
       "      <td>US</td>\n",
       "      <td>1</td>\n",
       "      <td>Full-time</td>\n",
       "      <td>Mid-Senior level</td>\n",
       "      <td>Bachelor's Degree</td>\n",
       "      <td>Sales</td>\n",
       "      <td>0</td>\n",
       "      <td>Account Executive - Washington DC Our passion ...</td>\n",
       "    </tr>\n",
       "    <tr>\n",
       "      <th>4</th>\n",
       "      <td>US</td>\n",
       "      <td>1</td>\n",
       "      <td>Full-time</td>\n",
       "      <td>Mid-Senior level</td>\n",
       "      <td>Bachelor's Degree</td>\n",
       "      <td>Health Care Provider</td>\n",
       "      <td>0</td>\n",
       "      <td>Bill Review Manager SpotSource Solutions LLC i...</td>\n",
       "    </tr>\n",
       "  </tbody>\n",
       "</table>\n",
       "</div>"
      ],
      "text/plain": [
       "  country  has_company_logo employment_type required_experience  \\\n",
       "0      US                 1           Other          Internship   \n",
       "1      NZ                 1       Full-time      Not Applicable   \n",
       "2      US                 1           Other      Not Applicable   \n",
       "3      US                 1       Full-time    Mid-Senior level   \n",
       "4      US                 1       Full-time    Mid-Senior level   \n",
       "\n",
       "  required_education              function  fraudulent  \\\n",
       "0        Unspecified             Marketing           0   \n",
       "1        Unspecified      Customer Service           0   \n",
       "2        Unspecified                 Other           0   \n",
       "3  Bachelor's Degree                 Sales           0   \n",
       "4  Bachelor's Degree  Health Care Provider           0   \n",
       "\n",
       "                                                text  \n",
       "0  Marketing Intern We're Food52, and we've creat...  \n",
       "1  Customer Service - Cloud Video Production 90 S...  \n",
       "2  Commissioning Machinery Assistant (CMA) Valor ...  \n",
       "3  Account Executive - Washington DC Our passion ...  \n",
       "4  Bill Review Manager SpotSource Solutions LLC i...  "
      ]
     },
     "execution_count": 98,
     "metadata": {},
     "output_type": "execute_result"
    }
   ],
   "source": [
    "df.head()"
   ]
  },
  {
   "cell_type": "markdown",
   "metadata": {},
   "source": [
    "Let us now split the dataset into training and test dataset before we perform any data preprocessing in our dataset."
   ]
  },
  {
   "cell_type": "code",
   "execution_count": 11,
   "metadata": {},
   "outputs": [],
   "source": [
    "## Train Test Split of data\n",
    "X = df.drop('fraudulent', axis =1)\n",
    "y = df['fraudulent']\n",
    "\n",
    "X_train,X_test, y_train,y_test = train_test_split(X,y,test_size = 0.20, stratify = y, random_state = 1)"
   ]
  },
  {
   "cell_type": "markdown",
   "metadata": {},
   "source": [
    "As we did in the imbalanced dataset, we will define the tokeniser function where we will remove punctuations, stop words and split each word by space."
   ]
  },
  {
   "cell_type": "code",
   "execution_count": 12,
   "metadata": {},
   "outputs": [
    {
     "name": "stderr",
     "output_type": "stream",
     "text": [
      "[nltk_data] Downloading package stopwords to\n",
      "[nltk_data]     /Users/jaiganeshkannan/nltk_data...\n",
      "[nltk_data]   Package stopwords is already up-to-date!\n"
     ]
    }
   ],
   "source": [
    "#Defining the tokeniser function\n",
    "nltk.download('stopwords')\n",
    "stemmer = nltk.stem.PorterStemmer()\n",
    "\n",
    "from nltk.corpus import stopwords \n",
    "ENGLISH_STOP_WORDS = stopwords.words('english')\n",
    "\n",
    "def my_tokenizer(sentence):\n",
    "    \n",
    "    for punctuation_mark in string.punctuation:\n",
    "        # Remove punctuation and set to lower case\n",
    "        sentence = sentence.replace(punctuation_mark,'').lower()\n",
    "\n",
    "    # split sentence into words\n",
    "    listofwords = sentence.split(' ')\n",
    "    listofstemmed_words = []\n",
    "    \n",
    "        \n",
    "    # Remove stopwords and any tokens that are just empty strings\n",
    "    for word in listofwords:\n",
    "        if (not word in ENGLISH_STOP_WORDS) and (word!=''):\n",
    "            # Stem words\n",
    "            stemmed_word = stemmer.stem(word)\n",
    "            listofstemmed_words.append(stemmed_word)\n",
    "\n",
    "    return listofstemmed_words"
   ]
  },
  {
   "cell_type": "markdown",
   "metadata": {},
   "source": [
    "### Data Preprocessing ###\n",
    "I used the tokenizer defined above in TF-IDF vectoriser to convert the text column in to vectorised token.\n",
    "\n",
    "Also for the categorical features `Country`, `employment_type`, `required_education`, `required_experience` and `function` I have used one hot encoder to encode."
   ]
  },
  {
   "cell_type": "markdown",
   "metadata": {},
   "source": [
    "**Column Transformation:**\\\n",
    "I will now pass the TF-IDF vetorizer and Onehotencoder into 'ColumnTransformer( )' function to transform the text and the categorical column in our dataset.\n",
    "\n",
    "**Over Sampling:**\\\n",
    "For over sampling I have used SMOTE( ) from imblearn package. I have set the `sampling_strategy` to 0.3 as I would just like to over sample my data just for 30% and not 50%.\n",
    "\n",
    "**Pipeline:**\\\n",
    "I have used `imblearn.pipeline` for these oversampled data as `SMOTE( )` technique can't be implemented in the `sklearn.pipeline`.\n",
    "\n",
    "In the pipeline I have passed the column transformer first, followed by the SMOTE function finally the model."
   ]
  },
  {
   "cell_type": "markdown",
   "metadata": {},
   "source": [
    "### Modelling ###\n",
    "**Logistic Regression:**\\\n",
    "We will now store the hyper parameter values to be tunned in a list as a dictionary. These parameter will be passed in the grid search for hyper parameter tunning.\n",
    "\n",
    "For logistic regression I have used C value and penalty as my hyperparameter and have tunned it with few values using grid search."
   ]
  },
  {
   "cell_type": "code",
   "execution_count": 33,
   "metadata": {},
   "outputs": [],
   "source": [
    "#set up column transformer parameters\n",
    "col_transform = [('OHE_transform', OneHotEncoder(handle_unknown = 'ignore'), ['country',\n",
    "                                                                              'employment_type',\n",
    "                                                                              'required_education',\n",
    "                                                                              'required_experience',\n",
    "                                                                              'function']),\n",
    "                ('text_transform', \n",
    "                 TfidfVectorizer(min_df=20, tokenizer=my_tokenizer, ngram_range = (1,3)), \n",
    "                 'text')]\n",
    "\n",
    "#Setting up the pipeline for execution\n",
    "pipeline_estimators = [('col_trans', ColumnTransformer(col_transform)),\n",
    "                       ('sampling', SMOTE(sampling_strategy = 0.3, random_state = 1)),\n",
    "                      ('model', LogisticRegression())]\n",
    "\n",
    "pipe = Pipeline(pipeline_estimators)\n",
    "\n",
    "## Defining the hyperparameter values for grid search\n",
    "param_grid = [\n",
    "    {'model': [LogisticRegression(solver='liblinear')],\n",
    "    'model__C': [0.001,0.01,0.1, 0.3,0.5],\n",
    "    'model__penalty': ['l1','l2']}]\n",
    "\n",
    "# Setting up the grid search\n",
    "grid_smote = GridSearchCV(pipe, param_grid, cv=5, n_jobs=-1, verbose=1)"
   ]
  },
  {
   "cell_type": "markdown",
   "metadata": {},
   "source": [
    "We will now fit the training dataset to the instantiated grid search function"
   ]
  },
  {
   "cell_type": "code",
   "execution_count": 34,
   "metadata": {},
   "outputs": [
    {
     "name": "stdout",
     "output_type": "stream",
     "text": [
      "Fitting 5 folds for each of 10 candidates, totalling 50 fits\n"
     ]
    },
    {
     "name": "stderr",
     "output_type": "stream",
     "text": [
      "[Parallel(n_jobs=-1)]: Using backend LokyBackend with 4 concurrent workers.\n",
      "[Parallel(n_jobs=-1)]: Done  42 tasks      | elapsed: 39.5min\n",
      "[Parallel(n_jobs=-1)]: Done  50 out of  50 | elapsed: 45.4min finished\n",
      "/Users/jaiganeshkannan/opt/anaconda3/lib/python3.7/site-packages/sklearn/utils/deprecation.py:87: FutureWarning: Function safe_indexing is deprecated; safe_indexing is deprecated in version 0.22 and will be removed in version 0.24.\n",
      "  warnings.warn(msg, category=FutureWarning)\n"
     ]
    }
   ],
   "source": [
    "# Fitting the model on train dataset\n",
    "fitted_grid_s = grid_smote.fit(X_train, y_train)"
   ]
  },
  {
   "cell_type": "markdown",
   "metadata": {},
   "source": [
    "We can call the `.best_estimator_` parameter to see the best paramaters for the logistic regression model."
   ]
  },
  {
   "cell_type": "code",
   "execution_count": 89,
   "metadata": {},
   "outputs": [
    {
     "data": {
      "text/plain": [
       "Pipeline(memory=None,\n",
       "         steps=[('col_trans',\n",
       "                 ColumnTransformer(n_jobs=None, remainder='drop',\n",
       "                                   sparse_threshold=0.3,\n",
       "                                   transformer_weights=None,\n",
       "                                   transformers=[('OHE_transform',\n",
       "                                                  OneHotEncoder(categories='auto',\n",
       "                                                                drop=None,\n",
       "                                                                dtype=<class 'numpy.float64'>,\n",
       "                                                                handle_unknown='ignore',\n",
       "                                                                sparse=True),\n",
       "                                                  ['country', 'employment_type',\n",
       "                                                   'required_education',\n",
       "                                                   'required_experience',\n",
       "                                                   'func...\n",
       "                       out_step='deprecated', random_state=1, ratio=None,\n",
       "                       sampling_strategy=0.3, svm_estimator='deprecated')),\n",
       "                ('model',\n",
       "                 LogisticRegression(C=0.5, class_weight=None, dual=False,\n",
       "                                    fit_intercept=True, intercept_scaling=1,\n",
       "                                    l1_ratio=None, max_iter=100,\n",
       "                                    multi_class='auto', n_jobs=None,\n",
       "                                    penalty='l2', random_state=None,\n",
       "                                    solver='liblinear', tol=0.0001, verbose=0,\n",
       "                                    warm_start=False))],\n",
       "         verbose=False)"
      ]
     },
     "execution_count": 89,
     "metadata": {},
     "output_type": "execute_result"
    }
   ],
   "source": [
    "#Finding the hyperparameters of the best model after gird search\n",
    "fitted_grid_s.best_estimator_"
   ]
  },
  {
   "cell_type": "markdown",
   "metadata": {},
   "source": [
    "We can see from the above results that, the grid search has determined that the model with a `C value` of 0.5 and the `penalty` factor of l2 has the best results. Let us now score our test data on our fitted model"
   ]
  },
  {
   "cell_type": "code",
   "execution_count": 90,
   "metadata": {},
   "outputs": [
    {
     "name": "stdout",
     "output_type": "stream",
     "text": [
      "0.9809659090909091\n",
      "0.987072945521699\n"
     ]
    }
   ],
   "source": [
    "#Printing the test and train accuracy score\n",
    "print(fitted_grid_s.score(X_test, y_test))\n",
    "print(fitted_grid_s.score(X_train, y_train))"
   ]
  },
  {
   "cell_type": "markdown",
   "metadata": {},
   "source": [
    "I would like to store the predictions made by the best model using `.predict` function and will check for the confusion matrix to see how many datapoints are misclassified (especially for fraudulent jobs)"
   ]
  },
  {
   "cell_type": "code",
   "execution_count": 38,
   "metadata": {},
   "outputs": [
    {
     "data": {
      "text/plain": [
       "array([[3315,   34],\n",
       "       [  33,  138]])"
      ]
     },
     "execution_count": 38,
     "metadata": {},
     "output_type": "execute_result"
    }
   ],
   "source": [
    "#Storing the prediction for the test dataset\n",
    "y_pred_sm = fitted_grid_s.predict(X_test)\n",
    "\n",
    "#Confusion matrix for test set\n",
    "confusion_matrix(y_test, y_pred_sm)"
   ]
  },
  {
   "cell_type": "code",
   "execution_count": 39,
   "metadata": {},
   "outputs": [
    {
     "name": "stdout",
     "output_type": "stream",
     "text": [
      "              precision    recall  f1-score   support\n",
      "\n",
      "           0       0.99      0.99      0.99      3349\n",
      "           1       0.80      0.81      0.80       171\n",
      "\n",
      "    accuracy                           0.98      3520\n",
      "   macro avg       0.90      0.90      0.90      3520\n",
      "weighted avg       0.98      0.98      0.98      3520\n",
      "\n"
     ]
    }
   ],
   "source": [
    "##### Classification report\n",
    "from sklearn.metrics import classification_report\n",
    "print(classification_report(y_test,y_pred_sm))"
   ]
  },
  {
   "cell_type": "markdown",
   "metadata": {},
   "source": [
    "Using the `classification report` from sklearn package we have got the recall and precision for the fraudulent jobs. \n",
    "\n",
    "We can see that the model was able to improve the recall percentage from 0.35 to 0.81 after SMOTE( ). I would also like to check for the ROC curve to see how confident is the model about its predictions"
   ]
  },
  {
   "cell_type": "code",
   "execution_count": 40,
   "metadata": {},
   "outputs": [
    {
     "data": {
      "image/png": "[encoded data removed]",
      "text/plain": [
       "<Figure size 432x288 with 1 Axes>"
      ]
     },
     "metadata": {
      "needs_background": "light"
     },
     "output_type": "display_data"
    },
    {
     "name": "stdout",
     "output_type": "stream",
     "text": [
      "Test AUC score:0.9855346537938355\n",
      "Train AUC score:0.9954524795392642\n",
      "\n"
     ]
    }
   ],
   "source": [
    "# Regenerate scores\n",
    "y_proba_logreg_test = fitted_grid_s.predict_proba(X_test)[:,1]\n",
    "y_proba_logreg_train = fitted_grid_s.predict_proba(X_train)[:,1]\n",
    "\n",
    "from sklearn.metrics import roc_curve, roc_auc_score\n",
    "\n",
    "fprs, tprs, thresholds = roc_curve(y_test, y_proba_logreg_test)\n",
    "roc_auc_logreg_test = roc_auc_score(y_test, y_proba_logreg_test)\n",
    "\n",
    "fprs_train, tprs_train, thresholds_train = roc_curve(y_train, y_proba_logreg_train)\n",
    "roc_auc_logreg_train = roc_auc_score(y_train, y_proba_logreg_train)\n",
    "\n",
    "plt.figure()\n",
    "plt.plot(fprs, tprs, color='darkorange',\n",
    "         lw=2, label='AUC = %0.2f' % roc_auc_logreg_test)\n",
    "plt.plot(fprs_train, tprs_train, color='blue',\n",
    "         lw=2, label='AUC = %0.2f' % roc_auc_logreg_train)\n",
    "plt.plot([0, 1], [0, 1], color='navy', lw=2, linestyle='--')\n",
    "plt.xlabel('False Positive Rate (FPR)')\n",
    "plt.ylabel('True Positive Rate (TPR)')\n",
    "plt.title('ROC Curve for Fraud Post Prediction - Logreg')\n",
    "plt.legend(loc=\"best\")\n",
    "plt.show()\n",
    "\n",
    "print(f'Test AUC score:{roc_auc_logreg_test}')\n",
    "print(f'Train AUC score:{roc_auc_logreg_train}')\n",
    "print()"
   ]
  },
  {
   "cell_type": "markdown",
   "metadata": {},
   "source": [
    "We have AUC score of 0.985 and 0.995 for test and train dataset respectively. Hence we can say that my model is very confident about its predictions.\n",
    "\n",
    "Let me now apply the same pipeline for Randomforest and XG Boost model, and check for the model performance metrics.\n",
    "\n",
    "For random forest model I have used the `n_estimators` and `max_depth` as my hyper-paramter for tunning."
   ]
  },
  {
   "cell_type": "code",
   "execution_count": 92,
   "metadata": {},
   "outputs": [],
   "source": [
    "#set up column transformer parameters\n",
    "col_transform = [('OHE_transform', OneHotEncoder(handle_unknown = 'ignore'), ['country',\n",
    "                                                                              'employment_type',\n",
    "                                                                              'required_education',\n",
    "                                                                              'required_experience',\n",
    "                                                                              'function']),\n",
    "                ('text_transform', \n",
    "                 TfidfVectorizer(min_df=20, tokenizer=my_tokenizer, ngram_range = (1,3)), \n",
    "                 'text')]\n",
    "\n",
    "pipeline_estimators = [('col_trans', ColumnTransformer(col_transform)),\n",
    "                       ('sampling', SMOTE(sampling_strategy = 0.3, random_state = 1)),\n",
    "                      ('model', RandomForestClassifier())]\n",
    "\n",
    "pipe = Pipeline(pipeline_estimators)\n",
    "\n",
    "param_grid = [\n",
    "    {'model': [RandomForestClassifier()],\n",
    "    'model__n_estimators': [10,20,50,100],\n",
    "    'model__max_depth': [10,50,100,500,1000]}]\n",
    "\n",
    "grid_smote_rf = GridSearchCV(pipe, param_grid, cv=5, n_jobs=-1, verbose=1)"
   ]
  },
  {
   "cell_type": "markdown",
   "metadata": {},
   "source": [
    "Let us fit the model for the train data."
   ]
  },
  {
   "cell_type": "code",
   "execution_count": 42,
   "metadata": {},
   "outputs": [
    {
     "name": "stdout",
     "output_type": "stream",
     "text": [
      "Fitting 5 folds for each of 20 candidates, totalling 100 fits\n"
     ]
    },
    {
     "name": "stderr",
     "output_type": "stream",
     "text": [
      "[Parallel(n_jobs=-1)]: Using backend LokyBackend with 4 concurrent workers.\n",
      "[Parallel(n_jobs=-1)]: Done  42 tasks      | elapsed: 38.3min\n",
      "[Parallel(n_jobs=-1)]: Done 100 out of 100 | elapsed: 88.2min finished\n",
      "/Users/jaiganeshkannan/opt/anaconda3/lib/python3.7/site-packages/sklearn/utils/deprecation.py:87: FutureWarning: Function safe_indexing is deprecated; safe_indexing is deprecated in version 0.22 and will be removed in version 0.24.\n",
      "  warnings.warn(msg, category=FutureWarning)\n"
     ]
    }
   ],
   "source": [
    "fitted_grid_s_rf = grid_smote_rf.fit(X_train, y_train)"
   ]
  },
  {
   "cell_type": "markdown",
   "metadata": {},
   "source": [
    "Let us check the hyper parameter values for the best random forest model after grid search cross validation."
   ]
  },
  {
   "cell_type": "code",
   "execution_count": 43,
   "metadata": {},
   "outputs": [
    {
     "data": {
      "text/plain": [
       "Pipeline(memory=None,\n",
       "         steps=[('col_trans',\n",
       "                 ColumnTransformer(n_jobs=None, remainder='drop',\n",
       "                                   sparse_threshold=0.3,\n",
       "                                   transformer_weights=None,\n",
       "                                   transformers=[('OHE_transform',\n",
       "                                                  OneHotEncoder(categories='auto',\n",
       "                                                                drop=None,\n",
       "                                                                dtype=<class 'numpy.float64'>,\n",
       "                                                                handle_unknown='ignore',\n",
       "                                                                sparse=True),\n",
       "                                                  ['country', 'employment_type',\n",
       "                                                   'required_education',\n",
       "                                                   'required_experience',\n",
       "                                                   'func...\n",
       "                 RandomForestClassifier(bootstrap=True, ccp_alpha=0.0,\n",
       "                                        class_weight=None, criterion='gini',\n",
       "                                        max_depth=1000, max_features='auto',\n",
       "                                        max_leaf_nodes=None, max_samples=None,\n",
       "                                        min_impurity_decrease=0.0,\n",
       "                                        min_impurity_split=None,\n",
       "                                        min_samples_leaf=1, min_samples_split=2,\n",
       "                                        min_weight_fraction_leaf=0.0,\n",
       "                                        n_estimators=100, n_jobs=None,\n",
       "                                        oob_score=False, random_state=None,\n",
       "                                        verbose=0, warm_start=False))],\n",
       "         verbose=False)"
      ]
     },
     "execution_count": 43,
     "metadata": {},
     "output_type": "execute_result"
    }
   ],
   "source": [
    "fitted_grid_s_rf.best_estimator_"
   ]
  },
  {
   "cell_type": "markdown",
   "metadata": {},
   "source": [
    "The random forest model was have its best result with the `n_estimators = 100` and `max_depth=1000`. Let us now score the fitted model on the test dataset."
   ]
  },
  {
   "cell_type": "code",
   "execution_count": 44,
   "metadata": {},
   "outputs": [
    {
     "name": "stdout",
     "output_type": "stream",
     "text": [
      "0.9840909090909091\n",
      "1.0\n"
     ]
    }
   ],
   "source": [
    "print(fitted_grid_s_rf.score(X_test, y_test))\n",
    "print(fitted_grid_s_rf.score(X_train, y_train))"
   ]
  },
  {
   "cell_type": "markdown",
   "metadata": {},
   "source": [
    "We have a test accuracy of 0.984 and a perfect train accuracy of 1.0. We will now look into the classification report for other model performance metrics."
   ]
  },
  {
   "cell_type": "code",
   "execution_count": 45,
   "metadata": {},
   "outputs": [
    {
     "data": {
      "text/plain": [
       "array([[3348,    1],\n",
       "       [  55,  116]])"
      ]
     },
     "execution_count": 45,
     "metadata": {},
     "output_type": "execute_result"
    }
   ],
   "source": [
    "y_pred_sm_rf = fitted_grid_s_rf.predict(X_test)\n",
    "\n",
    "#Confusion matrix for test set\n",
    "confusion_matrix(y_test, y_pred_sm_rf)"
   ]
  },
  {
   "cell_type": "code",
   "execution_count": 46,
   "metadata": {},
   "outputs": [
    {
     "name": "stdout",
     "output_type": "stream",
     "text": [
      "              precision    recall  f1-score   support\n",
      "\n",
      "           0       0.98      1.00      0.99      3349\n",
      "           1       0.99      0.68      0.81       171\n",
      "\n",
      "    accuracy                           0.98      3520\n",
      "   macro avg       0.99      0.84      0.90      3520\n",
      "weighted avg       0.98      0.98      0.98      3520\n",
      "\n"
     ]
    }
   ],
   "source": [
    "##Classification report\n",
    "from sklearn.metrics import classification_report\n",
    "print(classification_report(y_test,y_pred_sm_rf))"
   ]
  },
  {
   "cell_type": "markdown",
   "metadata": {},
   "source": [
    "From the `classification report` we can see that random forest model with SMOTE( ) has a recall percentage of 0.68 which is lower than our logistic regression model. But the precision is higher in Random forest model when compared to logistic regression.\n",
    "\n",
    "Let us look in to the ROC curve for random forest model."
   ]
  },
  {
   "cell_type": "code",
   "execution_count": 80,
   "metadata": {},
   "outputs": [
    {
     "data": {
      "image/png": "[encoded data removed]",
      "text/plain": [
       "<Figure size 432x288 with 1 Axes>"
      ]
     },
     "metadata": {
      "needs_background": "light"
     },
     "output_type": "display_data"
    },
    {
     "name": "stdout",
     "output_type": "stream",
     "text": [
      "Test AUC score:0.9832750982662188\n",
      "Train AUC score:0.9999999999999999\n",
      "\n"
     ]
    }
   ],
   "source": [
    "# Regenerate scores\n",
    "y_proba_rf_test = fitted_grid_s_rf.predict_proba(X_test)[:,1]\n",
    "y_proba_rf_train = fitted_grid_s_rf.predict_proba(X_train)[:,1]\n",
    "\n",
    "from sklearn.metrics import roc_curve, roc_auc_score\n",
    "\n",
    "fprs, tprs, thresholds = roc_curve(y_test, y_proba_rf_test)\n",
    "roc_auc_rf_test = roc_auc_score(y_test, y_proba_rf_test)\n",
    "\n",
    "fprs_train, tprs_train, thresholds_train = roc_curve(y_train, y_proba_rf_train)\n",
    "roc_auc_rf_train = roc_auc_score(y_train, y_proba_rf_train)\n",
    "\n",
    "plt.figure()\n",
    "plt.plot(fprs, tprs, color='darkorange',\n",
    "         lw=2, label='AUC = %0.2f' % roc_auc_rf_test)\n",
    "plt.plot(fprs_train, tprs_train, color='blue',\n",
    "         lw=2, label='AUC = %0.2f' % roc_auc_rf_train)\n",
    "plt.plot([0, 1], [0, 1], color='navy', lw=2, linestyle='--')\n",
    "plt.xlabel('False Positive Rate (FPR)')\n",
    "plt.ylabel('True Positive Rate (TPR)')\n",
    "plt.title('ROC Curve for Fraud Post Prediction - Random Forest')\n",
    "plt.legend(loc=\"best\")\n",
    "plt.show()\n",
    "\n",
    "print(f'Test AUC score:{roc_auc_rf_test}')\n",
    "print(f'Train AUC score:{roc_auc_rf_train}')\n",
    "print()"
   ]
  },
  {
   "cell_type": "markdown",
   "metadata": {},
   "source": [
    "The model looks very confident with the AUC score of 0.983 and 0.999 for test and train dataset respectively.\n",
    "\n",
    "We will now run the model with XG boost and will check for the model performance. I have used `learning_rate`, `max_depth` and `n_estimator` as my hyperparameter for tuning."
   ]
  },
  {
   "cell_type": "code",
   "execution_count": 50,
   "metadata": {},
   "outputs": [],
   "source": [
    "#set up column transformer parameters\n",
    "\n",
    "col_transform = [('OHE_transform', OneHotEncoder(handle_unknown = 'ignore'), ['country',\n",
    "                                                                              'employment_type',\n",
    "                                                                              'required_education',\n",
    "                                                                              'required_experience',\n",
    "                                                                              'function']),\n",
    "                ('text_transform', \n",
    "                 TfidfVectorizer(min_df=20, tokenizer=my_tokenizer, ngram_range = (1,3)), \n",
    "                 'text')]\n",
    "\n",
    "pipeline_estimators = [('col_trans', ColumnTransformer(col_transform)),\n",
    "                       ('sampling', SMOTE(sampling_strategy = 0.3, random_state = 1)),\n",
    "                      ('model', XGBClassifier())]\n",
    "\n",
    "pipe = Pipeline(pipeline_estimators)\n",
    "\n",
    "param_grid = [\n",
    "    {'model': [XGBClassifier()],\n",
    "    'model__learning_rate': [0.001,0.01,0.1,0.3,0.5],\n",
    "    'model__max_depth': [10,50,100,500,1000],\n",
    "    'model__n_estimators': [10,30,50,100]}]\n",
    "\n",
    "\n",
    "grid_s_XGB = GridSearchCV(pipe, param_grid, cv=5, n_jobs=-1, verbose=1)"
   ]
  },
  {
   "cell_type": "markdown",
   "metadata": {},
   "source": [
    "Let's fit the model for our trian dataset. Then we will check the hyper parameter values for the best XG boost model."
   ]
  },
  {
   "cell_type": "code",
   "execution_count": 73,
   "metadata": {},
   "outputs": [
    {
     "name": "stdout",
     "output_type": "stream",
     "text": [
      "Fitting 5 folds for each of 100 candidates, totalling 500 fits\n"
     ]
    },
    {
     "name": "stderr",
     "output_type": "stream",
     "text": [
      "[Parallel(n_jobs=-1)]: Using backend LokyBackend with 4 concurrent workers.\n",
      "/Users/jaiganeshkannan/opt/anaconda3/lib/python3.7/site-packages/joblib/externals/loky/process_executor.py:706: UserWarning: A worker stopped while some jobs were given to the executor. This can be caused by a too short worker timeout or by a memory leak.\n",
      "  \"timeout or by a memory leak.\", UserWarning\n",
      "[Parallel(n_jobs=-1)]: Done  42 tasks      | elapsed: 90.3min\n",
      "[Parallel(n_jobs=-1)]: Done 192 tasks      | elapsed: 476.2min\n",
      "[Parallel(n_jobs=-1)]: Done 442 tasks      | elapsed: 892.9min\n",
      "[Parallel(n_jobs=-1)]: Done 500 out of 500 | elapsed: 1131.2min finished\n",
      "/Users/jaiganeshkannan/opt/anaconda3/lib/python3.7/site-packages/sklearn/utils/deprecation.py:87: FutureWarning: Function safe_indexing is deprecated; safe_indexing is deprecated in version 0.22 and will be removed in version 0.24.\n",
      "  warnings.warn(msg, category=FutureWarning)\n"
     ]
    }
   ],
   "source": [
    "fitted_grid_s_XGB = grid_s_XGB.fit(X_train, y_train)"
   ]
  },
  {
   "cell_type": "code",
   "execution_count": 74,
   "metadata": {},
   "outputs": [
    {
     "data": {
      "text/plain": [
       "Pipeline(memory=None,\n",
       "         steps=[('col_trans',\n",
       "                 ColumnTransformer(n_jobs=None, remainder='drop',\n",
       "                                   sparse_threshold=0.3,\n",
       "                                   transformer_weights=None,\n",
       "                                   transformers=[('OHE_transform',\n",
       "                                                  OneHotEncoder(categories='auto',\n",
       "                                                                drop=None,\n",
       "                                                                dtype=<class 'numpy.float64'>,\n",
       "                                                                handle_unknown='ignore',\n",
       "                                                                sparse=True),\n",
       "                                                  ['country', 'employment_type',\n",
       "                                                   'required_education',\n",
       "                                                   'required_experience',\n",
       "                                                   'func...\n",
       "                 XGBClassifier(base_score=0.5, booster='gbtree',\n",
       "                               colsample_bylevel=1, colsample_bynode=1,\n",
       "                               colsample_bytree=1, gamma=0, learning_rate=0.1,\n",
       "                               max_delta_step=0, max_depth=50,\n",
       "                               min_child_weight=1, missing=None,\n",
       "                               n_estimators=100, n_jobs=1, nthread=None,\n",
       "                               objective='binary:logistic', random_state=0,\n",
       "                               reg_alpha=0, reg_lambda=1, scale_pos_weight=1,\n",
       "                               seed=None, silent=None, subsample=1,\n",
       "                               verbosity=1))],\n",
       "         verbose=False)"
      ]
     },
     "execution_count": 74,
     "metadata": {},
     "output_type": "execute_result"
    }
   ],
   "source": [
    "fitted_grid_s_XGB.best_estimator_"
   ]
  },
  {
   "cell_type": "markdown",
   "metadata": {},
   "source": [
    "Our best model for XG boost has the `learning_rate = 0.1`, `n_estimators = 100` and `max_depth=50`. Let us now score the test dataset on the fitted model."
   ]
  },
  {
   "cell_type": "code",
   "execution_count": 75,
   "metadata": {},
   "outputs": [
    {
     "name": "stdout",
     "output_type": "stream",
     "text": [
      "0.9877840909090909\n",
      "1.0\n"
     ]
    }
   ],
   "source": [
    "print(fitted_grid_s_XGB.score(X_test, y_test))\n",
    "print(fitted_grid_s_XGB.score(X_train, y_train))"
   ]
  },
  {
   "cell_type": "markdown",
   "metadata": {},
   "source": [
    "We have a test accuracy of 0.988 and a perfect train accuracy of 1.0. We will now look into the classification report for other model performance metrics."
   ]
  },
  {
   "cell_type": "code",
   "execution_count": 76,
   "metadata": {},
   "outputs": [
    {
     "data": {
      "text/plain": [
       "array([[3342,    7],\n",
       "       [  36,  135]])"
      ]
     },
     "execution_count": 76,
     "metadata": {},
     "output_type": "execute_result"
    }
   ],
   "source": [
    "y_pred_sm_XGB = fitted_grid_s_XGB.predict(X_test)\n",
    "\n",
    "#Confusion matrix for test set\n",
    "confusion_matrix(y_test, y_pred_sm_XGB)"
   ]
  },
  {
   "cell_type": "code",
   "execution_count": 77,
   "metadata": {},
   "outputs": [
    {
     "name": "stdout",
     "output_type": "stream",
     "text": [
      "              precision    recall  f1-score   support\n",
      "\n",
      "           0       0.99      1.00      0.99      3349\n",
      "           1       0.95      0.79      0.86       171\n",
      "\n",
      "    accuracy                           0.99      3520\n",
      "   macro avg       0.97      0.89      0.93      3520\n",
      "weighted avg       0.99      0.99      0.99      3520\n",
      "\n"
     ]
    }
   ],
   "source": [
    "##Classification report\n",
    "from sklearn.metrics import classification_report\n",
    "print(classification_report(y_test,y_pred_sm_XGB))"
   ]
  },
  {
   "cell_type": "markdown",
   "metadata": {},
   "source": [
    "From the `classification report` we can see that XG Boost model with SMOTE( ) has a recall percentage of 0.79 which is slightly lower than our logistic regression model, but the precision is mush higher than the logistic regression.\n",
    "\n",
    "Let us look in to the ROC curve for XG Boost model."
   ]
  },
  {
   "cell_type": "code",
   "execution_count": 81,
   "metadata": {},
   "outputs": [
    {
     "data": {
      "image/png": "[encoded data removed]",
      "text/plain": [
       "<Figure size 432x288 with 1 Axes>"
      ]
     },
     "metadata": {
      "needs_background": "light"
     },
     "output_type": "display_data"
    },
    {
     "name": "stdout",
     "output_type": "stream",
     "text": [
      "Test AUC score:0.9878623102994871\n",
      "Train AUC score:1.0\n",
      "\n"
     ]
    }
   ],
   "source": [
    "# Regenerate scores\n",
    "y_proba_XGB_test = fitted_grid_s_XGB.predict_proba(X_test)[:,1]\n",
    "y_proba_XGB_train = fitted_grid_s_XGB.predict_proba(X_train)[:,1]\n",
    "\n",
    "from sklearn.metrics import roc_curve, roc_auc_score\n",
    "\n",
    "fprs, tprs, thresholds = roc_curve(y_test, y_proba_XGB_test)\n",
    "roc_auc_XGB_test = roc_auc_score(y_test, y_proba_XGB_test)\n",
    "\n",
    "fprs_train, tprs_train, thresholds_train = roc_curve(y_train, y_proba_XGB_train)\n",
    "roc_auc_XGB_train = roc_auc_score(y_train, y_proba_XGB_train)\n",
    "\n",
    "plt.figure()\n",
    "plt.plot(fprs, tprs, color='darkorange',\n",
    "         lw=2, label='AUC = %0.2f' % roc_auc_XGB_test)\n",
    "plt.plot(fprs_train, tprs_train, color='blue',\n",
    "         lw=2, label='AUC = %0.2f' % roc_auc_XGB_train)\n",
    "plt.plot([0, 1], [0, 1], color='navy', lw=2, linestyle='--')\n",
    "plt.xlabel('False Positive Rate (FPR)')\n",
    "plt.ylabel('True Positive Rate (TPR)')\n",
    "plt.title('ROC Curve for Fraud Post Prediction - Random Forest')\n",
    "plt.legend(loc=\"best\")\n",
    "plt.show()\n",
    "\n",
    "print(f'Test AUC score:{roc_auc_XGB_test}')\n",
    "print(f'Train AUC score:{roc_auc_XGB_train}')\n",
    "print()"
   ]
  },
  {
   "cell_type": "markdown",
   "metadata": {},
   "source": [
    "The model looks very confident with the AUC score of 0.987 and 1.0 for test and train dataset respectively.\n",
    "\n",
    "Based on the model performance, we can see that logistic reression (0.81) has the highest recall percentage followed by XG boost (0.79) but the precision is higher is XG boost (0.95) when compared to the logistic regession (0.80).\n",
    "\n",
    "For this problem statement, I choose logistic regression model with SMOTE as it has the highest recall percentage. Though the precision is low when compared to XG boost, I feel that the cost of sharing the personal information on a fraudulent job post is much higher when compared to the cost of not applying to a real job. Please look for the model diagnostics in the `logreg_smote.ipynb` python file."
   ]
  }
 ],
 "metadata": {
  "kernelspec": {
   "display_name": "Python 3",
   "language": "python",
   "name": "python3"
  },
  "language_info": {
   "codemirror_mode": {
    "name": "ipython",
    "version": 3
   },
   "file_extension": ".py",
   "mimetype": "text/x-python",
   "name": "python",
   "nbconvert_exporter": "python",
   "pygments_lexer": "ipython3",
   "version": "3.7.6"
  }
 },
 "nbformat": 4,
 "nbformat_minor": 4
}
